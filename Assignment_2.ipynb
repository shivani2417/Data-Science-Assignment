{
 "cells": [
  {
   "cell_type": "markdown",
   "id": "2d3b0e89-7a02-4da0-b689-441483829953",
   "metadata": {},
   "source": [
    "1.Write a program to accept perentage from the user and dispaly the grade according to the following criteria:"
   ]
  },
  {
   "cell_type": "code",
   "execution_count": 9,
   "id": "204b8563-90a9-4cd5-9d38-ef50298a64fe",
   "metadata": {},
   "outputs": [
    {
     "name": "stdin",
     "output_type": "stream",
     "text": [
      "Enter your marks 75\n"
     ]
    },
    {
     "name": "stdout",
     "output_type": "stream",
     "text": [
      "c grade\n"
     ]
    }
   ],
   "source": [
    "marks=int(input(\"Enter your marks\"))\n",
    "if marks>90:\n",
    "    print(\"A Grade\")\n",
    "elif marks >80 and marks <=90:\n",
    "    print (\"B grade\")\n",
    "elif marks >=60 and marks <=80:\n",
    "    print (\"c grade\")\n",
    "else:\n",
    "    print(\"D grade\")\n"
   ]
  },
  {
   "cell_type": "markdown",
   "id": "66ad2653-4dac-480d-bc2a-a6866ffaa157",
   "metadata": {},
   "source": [
    "2.Write a program to accept the cost price of bike and display the road tax to be paid according to the following criteria:"
   ]
  },
  {
   "cell_type": "code",
   "execution_count": 12,
   "id": "9e3adef3-d8e8-4b6b-bf98-b469302e5493",
   "metadata": {},
   "outputs": [
    {
     "name": "stdin",
     "output_type": "stream",
     "text": [
      "enter cost price of bike  40000\n"
     ]
    },
    {
     "name": "stdout",
     "output_type": "stream",
     "text": [
      "5% Tax\n"
     ]
    }
   ],
   "source": [
    "cost=int(input(\"enter cost price of bike \"))\n",
    "if cost > 100000:\n",
    "    print(\"15% Tax\")\n",
    "elif cost > 50000 and cost <= 100000:\n",
    "    print(\"10% Tax\")\n",
    "elif cost <= 50000 :\n",
    "    print (\"5% Tax\")"
   ]
  },
  {
   "cell_type": "markdown",
   "id": "525d1597-6937-4410-a3a7-181591bd4d81",
   "metadata": {},
   "source": [
    "3.Accept any city from the user and dispay monuments of that city"
   ]
  },
  {
   "cell_type": "code",
   "execution_count": 15,
   "id": "8ffc332b-8bd5-44eb-a5b1-922e41cbca80",
   "metadata": {},
   "outputs": [
    {
     "name": "stdin",
     "output_type": "stream",
     "text": [
      "Enter City Agra\n"
     ]
    },
    {
     "name": "stdout",
     "output_type": "stream",
     "text": [
      "Taj Mahal\n"
     ]
    }
   ],
   "source": [
    "city= input (\"Enter City\")\n",
    "if city == \"Delhi\":\n",
    "    print(\"Red Fort\")\n",
    "elif city == \"Agra\":\n",
    "    print(\"Taj Mahal\")\n",
    "elif city == \"Jaipur\":\n",
    "    print(\"Jal Mahal\")"
   ]
  },
  {
   "cell_type": "markdown",
   "id": "8a16927d-9786-473b-8327-7c6924820759",
   "metadata": {},
   "source": [
    "4.Check how many time a give number can be divided by 3 before it is less than or equal to 10."
   ]
  },
  {
   "cell_type": "code",
   "execution_count": 5,
   "id": "42868b78-6a86-4875-ae02-2bd58de284d3",
   "metadata": {},
   "outputs": [
    {
     "name": "stdin",
     "output_type": "stream",
     "text": [
      "Enter a number 180\n"
     ]
    },
    {
     "name": "stdout",
     "output_type": "stream",
     "text": [
      "3\n"
     ]
    }
   ],
   "source": [
    "number= int(input(\"Enter a number\"))\n",
    "count=0\n",
    "while number > 10:\n",
    "    number=number / 3\n",
    "    count += 1\n",
    "print(count)\n",
    "    \n"
   ]
  },
  {
   "cell_type": "markdown",
   "id": "55ad73b7-6523-4211-87b9-19fa52240f4e",
   "metadata": {},
   "source": [
    "5.Why and when to use While loop in Python give a detailed description with example "
   ]
  },
  {
   "cell_type": "code",
   "execution_count": 6,
   "id": "c68feaf3-b7a4-4d2f-9928-8a733099b9b8",
   "metadata": {},
   "outputs": [
    {
     "name": "stdin",
     "output_type": "stream",
     "text": [
      "Enter a number 999\n"
     ]
    },
    {
     "name": "stdout",
     "output_type": "stream",
     "text": [
      "5\n"
     ]
    }
   ],
   "source": [
    "\"\"\"Ans: A while loop is a control flow statement which allows code to be executed repeatedly, depending on whether a condition is satisfied or not. As long as some condition is true, 'while' repeats everything inside the loop block. It stops executing the block if and only if the condition fails.\n",
    "Syntax:\n",
    "while condition:\n",
    "body\"\"\"\n",
    "\n",
    "# Example\n",
    "\n",
    "number= int(input(\"Enter a number\"))\n",
    "count=0\n",
    "while number > 10:\n",
    "    number=number / 3\n",
    "    count += 1\n",
    "print(count)\n"
   ]
  },
  {
   "cell_type": "markdown",
   "id": "43e4cab3-ad69-407f-bb13-ff22a9cd3092",
   "metadata": {},
   "source": [
    "6.Use nested while loop to print 3 different pattern"
   ]
  },
  {
   "cell_type": "code",
   "execution_count": 5,
   "id": "bb41d2af-1190-4513-bede-c6fd83d39898",
   "metadata": {},
   "outputs": [
    {
     "name": "stdout",
     "output_type": "stream",
     "text": [
      "1 \n",
      "1 2 \n",
      "1 2 3 \n",
      "1 2 3 4 \n",
      "1 2 3 4 5 \n",
      "__________________\n",
      "5 4 3 2 1 \n",
      "4 3 2 1 \n",
      "3 2 1 \n",
      "2 1 \n",
      "1 \n",
      "__________________\n",
      "11111\n",
      "11111\n",
      "11111\n",
      "11111\n",
      "11111\n"
     ]
    }
   ],
   "source": [
    "i=1\n",
    "while i<=5:\n",
    "    j=1\n",
    "    while j<=i:\n",
    "        print(j,end=\" \")\n",
    "        j=j+1\n",
    "    print(\"\")\n",
    "    i=i+1\n",
    "\n",
    "print(\"__________________\")\n",
    "i=5\n",
    "while i>=1:\n",
    "    j=i\n",
    "    while j>=1:\n",
    "        print(j,end=\" \")\n",
    "        j=j-1\n",
    "    print(\"\")\n",
    "    i=i-1\n",
    "print(\"__________________\")\n",
    "i=5\n",
    "while i>=1:\n",
    "    j=1\n",
    "    while j<=5:\n",
    "        if j<=5:\n",
    "            print(\"1\",end=\"\")\n",
    "        else:\n",
    "            print(\"\",end=\" \")\n",
    "        j=j+1\n",
    "    print(\"\")\n",
    "    i=i-1"
   ]
  },
  {
   "cell_type": "markdown",
   "id": "f14e680f-ec23-47a8-b95c-146afcbc1aa6",
   "metadata": {},
   "source": [
    "7.Reverse a while loop to display number 10 to 1."
   ]
  },
  {
   "cell_type": "code",
   "execution_count": 6,
   "id": "8be2f30d-370e-4afc-806a-bf230d385cda",
   "metadata": {},
   "outputs": [
    {
     "name": "stdout",
     "output_type": "stream",
     "text": [
      "10\n",
      "9\n",
      "8\n",
      "7\n",
      "6\n",
      "5\n",
      "4\n",
      "3\n",
      "2\n",
      "1\n"
     ]
    }
   ],
   "source": [
    "i = 10\n",
    "while i > 0:\n",
    "    print(i)\n",
    "    i-=1\n"
   ]
  },
  {
   "cell_type": "markdown",
   "id": "d0cffaae-6761-4f9d-9adb-1a50b057fd18",
   "metadata": {},
   "source": [
    "8.Reverse a while loop to display number 10 to 1."
   ]
  },
  {
   "cell_type": "code",
   "execution_count": 8,
   "id": "e250aa10-1765-4dd5-a732-d17cc9011b8a",
   "metadata": {},
   "outputs": [
    {
     "name": "stdout",
     "output_type": "stream",
     "text": [
      "10\n",
      "9\n",
      "8\n",
      "7\n",
      "6\n",
      "5\n",
      "4\n",
      "3\n",
      "2\n",
      "1\n"
     ]
    }
   ],
   "source": [
    "i=10\n",
    "while i > 0:\n",
    "    print (i)\n",
    "    i -= 1"
   ]
  },
  {
   "cell_type": "code",
   "execution_count": null,
   "id": "33a64b34-5ace-466b-bd42-55f3bb676067",
   "metadata": {},
   "outputs": [],
   "source": []
  }
 ],
 "metadata": {
  "kernelspec": {
   "display_name": "Python 3 (ipykernel)",
   "language": "python",
   "name": "python3"
  },
  "language_info": {
   "codemirror_mode": {
    "name": "ipython",
    "version": 3
   },
   "file_extension": ".py",
   "mimetype": "text/x-python",
   "name": "python",
   "nbconvert_exporter": "python",
   "pygments_lexer": "ipython3",
   "version": "3.12.0"
  }
 },
 "nbformat": 4,
 "nbformat_minor": 5
}
